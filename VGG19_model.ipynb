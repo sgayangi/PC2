{
  "nbformat": 4,
  "nbformat_minor": 0,
  "metadata": {
    "kernelspec": {
      "display_name": "Python 3",
      "language": "python",
      "name": "python3"
    },
    "language_info": {
      "codemirror_mode": {
        "name": "ipython",
        "version": 3
      },
      "file_extension": ".py",
      "mimetype": "text/x-python",
      "name": "python",
      "nbconvert_exporter": "python",
      "pygments_lexer": "ipython3",
      "version": "3.7.6"
    },
    "colab": {
      "name": "VGG19 model.ipynb",
      "provenance": [],
      "collapsed_sections": [],
      "include_colab_link": true
    },
    "accelerator": "GPU"
  },
  "cells": [
    {
      "cell_type": "markdown",
      "metadata": {
        "id": "view-in-github",
        "colab_type": "text"
      },
      "source": [
        "<a href=\"https://colab.research.google.com/github/sgayangi/PC2/blob/main/VGG19_model.ipynb\" target=\"_parent\"><img src=\"https://colab.research.google.com/assets/colab-badge.svg\" alt=\"Open In Colab\"/></a>"
      ]
    },
    {
      "cell_type": "code",
      "metadata": {
        "id": "2nKlPU9sbLGI"
      },
      "source": [
        "\n",
        "import cv2\n",
        "import matplotlib.pyplot as plt\n",
        "import os\n",
        "import numpy as np\n",
        "import tensorflow as tf\n",
        "from tensorflow.keras import applications\n",
        "from tensorflow.keras import optimizers"
      ],
      "execution_count": 2,
      "outputs": []
    },
    {
      "cell_type": "code",
      "metadata": {
        "colab": {
          "base_uri": "https://localhost:8080/"
        },
        "id": "NeGb_j4YtqEp",
        "outputId": "61c9e60c-45dc-4542-db61-7acf32a11466"
      },
      "source": [
        "!wget --no-check-certificate \\\r\n",
        "  https://datasets.simula.no/kvasir/data/kvasir-dataset-v2-folds-features.zip\\\r\n",
        "  -O /tmp/kvasir-dataset-v2-features.zip"
      ],
      "execution_count": 3,
      "outputs": [
        {
          "output_type": "stream",
          "text": [
            "--2021-03-06 05:24:18--  https://datasets.simula.no/kvasir/data/kvasir-dataset-v2-folds-features.zip\n",
            "Resolving datasets.simula.no (datasets.simula.no)... 128.39.36.14\n",
            "Connecting to datasets.simula.no (datasets.simula.no)|128.39.36.14|:443... connected.\n",
            "HTTP request sent, awaiting response... 200 OK\n",
            "Length: 98573500 (94M) [application/zip]\n",
            "Saving to: ‘/tmp/kvasir-dataset-v2-features.zip’\n",
            "\n",
            "/tmp/kvasir-dataset 100%[===================>]  94.01M  9.95MB/s    in 10s     \n",
            "\n",
            "2021-03-06 05:24:29 (9.02 MB/s) - ‘/tmp/kvasir-dataset-v2-features.zip’ saved [98573500/98573500]\n",
            "\n"
          ],
          "name": "stdout"
        }
      ]
    },
    {
      "cell_type": "code",
      "metadata": {
        "colab": {
          "base_uri": "https://localhost:8080/"
        },
        "id": "4hW7VawDvAN7",
        "outputId": "85a27fda-6ddf-419e-ac19-88d6cd619917"
      },
      "source": [
        "!wget --no-check-certificate \\\r\n",
        "  https://datasets.simula.no/kvasir/data/kvasir-dataset-v2.zip\\\r\n",
        "  -O /tmp/kvasir-dataset-v2.zip"
      ],
      "execution_count": 4,
      "outputs": [
        {
          "output_type": "stream",
          "text": [
            "--2021-03-06 05:24:30--  https://datasets.simula.no/kvasir/data/kvasir-dataset-v2.zip\n",
            "Resolving datasets.simula.no (datasets.simula.no)... 128.39.36.14\n",
            "Connecting to datasets.simula.no (datasets.simula.no)|128.39.36.14|:443... connected.\n",
            "HTTP request sent, awaiting response... 200 OK\n",
            "Length: 2489312085 (2.3G) [application/zip]\n",
            "Saving to: ‘/tmp/kvasir-dataset-v2.zip’\n",
            "\n",
            "/tmp/kvasir-dataset 100%[===================>]   2.32G  9.25MB/s    in 4m 20s  \n",
            "\n",
            "2021-03-06 05:28:51 (9.13 MB/s) - ‘/tmp/kvasir-dataset-v2.zip’ saved [2489312085/2489312085]\n",
            "\n"
          ],
          "name": "stdout"
        }
      ]
    },
    {
      "cell_type": "code",
      "metadata": {
        "id": "yYp4_ruabLG2"
      },
      "source": [
        "datadir='/tmp/kvasir-dataset-v2'\n",
        "categories = ['dyed-lifted-polyps','dyed-resection-margins','esophagitis',\n",
        "             'normal-cecum','normal-pylorus','normal-z-line','polyps','ulcerative-colitis']"
      ],
      "execution_count": 5,
      "outputs": []
    },
    {
      "cell_type": "code",
      "metadata": {
        "id": "5fZljmwTw_Tg"
      },
      "source": [
        "import os\r\n",
        "import zipfile\r\n",
        "\r\n",
        "local_zip = '/tmp/kvasir-dataset-v2.zip'\r\n",
        "\r\n",
        "zip_ref = zipfile.ZipFile(local_zip, 'r')\r\n",
        "\r\n",
        "zip_ref.extractall('/tmp')\r\n",
        "zip_ref.close()"
      ],
      "execution_count": 6,
      "outputs": []
    },
    {
      "cell_type": "code",
      "metadata": {
        "id": "BAOs7uWebLG7"
      },
      "source": [
        "training_data=[]\n",
        "def create_training_data():\n",
        "    for category in categories:\n",
        "        path = os.path.join(datadir,category)\n",
        "        class_num = categories.index(category)\n",
        "        for img in os.listdir(path):\n",
        "            try:\n",
        "                img_array = cv2.imread(os.path.join(path,img))\n",
        "                new_array = cv2.resize(img_array,(96,96))\n",
        "                training_data.append([new_array,class_num])\n",
        "            except Exception as e:    \n",
        "                pass\n",
        "create_training_data()"
      ],
      "execution_count": 7,
      "outputs": []
    },
    {
      "cell_type": "code",
      "metadata": {
        "colab": {
          "base_uri": "https://localhost:8080/"
        },
        "id": "gkNQAWc4bLHB",
        "outputId": "bd05ae67-7468-4f61-e8ab-408dd0d949e5"
      },
      "source": [
        "y=[]\n",
        "x=[]\n",
        "\n",
        "for features,label in training_data:\n",
        "    x.append(features)\n",
        "    y.append(label)\n",
        "x = np.array(x)\n",
        "print(x.shape)"
      ],
      "execution_count": 8,
      "outputs": [
        {
          "output_type": "stream",
          "text": [
            "(8000, 96, 96, 3)\n"
          ],
          "name": "stdout"
        }
      ]
    },
    {
      "cell_type": "code",
      "metadata": {
        "id": "F5pKdaYibLHH"
      },
      "source": [
        "from sklearn.model_selection import train_test_split\n",
        "x_train,x_test,y_train,y_test = train_test_split(x,y,test_size=0.3,random_state=42)"
      ],
      "execution_count": 9,
      "outputs": []
    },
    {
      "cell_type": "code",
      "metadata": {
        "id": "ptLtV3AkbLHI"
      },
      "source": [
        "x_train=np.array(x_train, dtype=np.float32)\n",
        "x_test=np.array(x_test, dtype=np.float32)\n",
        "x_train/=255.0\n",
        "x_test/=255.0"
      ],
      "execution_count": 10,
      "outputs": []
    },
    {
      "cell_type": "code",
      "metadata": {
        "id": "wSeyr-5HbLHI"
      },
      "source": [
        "y_train = tf.keras.utils.to_categorical(y_train, 8)\n",
        "y_test = tf.keras.utils.to_categorical(y_test, 8)"
      ],
      "execution_count": 11,
      "outputs": []
    },
    {
      "cell_type": "code",
      "metadata": {
        "colab": {
          "base_uri": "https://localhost:8080/"
        },
        "id": "tLZ2-FMnbLHJ",
        "outputId": "5c3497b0-dec2-45dc-f4a4-900245ce9b2b"
      },
      "source": [
        "# local_weights_file = '/tmp/kvasir-cnn-v1.1.h5'\r\n",
        "# new_model = tf.keras.models.load_model(local_weights_file)\r\n",
        "\r\n",
        "model = applications.VGG19(weights = \"imagenet\", include_top=False, input_shape = (96, 96, 3))"
      ],
      "execution_count": 12,
      "outputs": [
        {
          "output_type": "stream",
          "text": [
            "Downloading data from https://storage.googleapis.com/tensorflow/keras-applications/vgg19/vgg19_weights_tf_dim_ordering_tf_kernels_notop.h5\n",
            "80142336/80134624 [==============================] - 1s 0us/step\n"
          ],
          "name": "stdout"
        }
      ]
    },
    {
      "cell_type": "code",
      "metadata": {
        "id": "YyTxqR3KbLHK"
      },
      "source": [
        "for layer in model.layers[:20]:\n",
        "    layer.trainable = True\n",
        "x = model.output\n",
        "x =  tf.keras.layers.Flatten()(x)\n",
        "x = tf.keras.layers.Dense(1024, activation=\"relu\")(x)\n",
        "x = tf.keras.layers.Dropout(0.5)(x)\n",
        "x = tf.keras.layers.Dense(1024, activation=\"relu\")(x)\n",
        "predictions = tf.keras.layers.Dense(8, activation=\"softmax\")(x)   \n",
        "model_final = tf.keras.models.Model(model.input,predictions)\n",
        "model_final.compile(loss = \"categorical_crossentropy\", optimizer = optimizers.SGD(lr=0.0001, momentum=0.9), metrics=[\"accuracy\"])"
      ],
      "execution_count": 18,
      "outputs": []
    },
    {
      "cell_type": "code",
      "metadata": {
        "id": "xDIaEJfIbLHL",
        "colab": {
          "base_uri": "https://localhost:8080/"
        },
        "outputId": "dc3cde04-64e7-45d2-b2e0-d9f20d0bff47"
      },
      "source": [
        "history=model_final.fit(x_train, y_train,\n",
        "          batch_size=32,\n",
        "          epochs=50,\n",
        "          verbose=1,\n",
        "          validation_data=(x_test, y_test))"
      ],
      "execution_count": 19,
      "outputs": [
        {
          "output_type": "stream",
          "text": [
            "Epoch 1/50\n",
            "175/175 [==============================] - 24s 126ms/step - loss: 1.7397 - accuracy: 0.3398 - val_loss: 0.7030 - val_accuracy: 0.6942\n",
            "Epoch 2/50\n",
            "175/175 [==============================] - 22s 127ms/step - loss: 0.7699 - accuracy: 0.6845 - val_loss: 0.5075 - val_accuracy: 0.7679\n",
            "Epoch 3/50\n",
            "175/175 [==============================] - 22s 125ms/step - loss: 0.5546 - accuracy: 0.7680 - val_loss: 0.4236 - val_accuracy: 0.8263\n",
            "Epoch 4/50\n",
            "175/175 [==============================] - 22s 125ms/step - loss: 0.4610 - accuracy: 0.8127 - val_loss: 0.3955 - val_accuracy: 0.8313\n",
            "Epoch 5/50\n",
            "175/175 [==============================] - 22s 125ms/step - loss: 0.3897 - accuracy: 0.8378 - val_loss: 0.3824 - val_accuracy: 0.8392\n",
            "Epoch 6/50\n",
            "175/175 [==============================] - 22s 126ms/step - loss: 0.3483 - accuracy: 0.8640 - val_loss: 0.3679 - val_accuracy: 0.8512\n",
            "Epoch 7/50\n",
            "175/175 [==============================] - 22s 125ms/step - loss: 0.3237 - accuracy: 0.8781 - val_loss: 0.3536 - val_accuracy: 0.8533\n",
            "Epoch 8/50\n",
            "175/175 [==============================] - 22s 125ms/step - loss: 0.2794 - accuracy: 0.8950 - val_loss: 0.3606 - val_accuracy: 0.8592\n",
            "Epoch 9/50\n",
            "175/175 [==============================] - 22s 125ms/step - loss: 0.2565 - accuracy: 0.8989 - val_loss: 0.3597 - val_accuracy: 0.8617\n",
            "Epoch 10/50\n",
            "175/175 [==============================] - 22s 125ms/step - loss: 0.2352 - accuracy: 0.9046 - val_loss: 0.3441 - val_accuracy: 0.8650\n",
            "Epoch 11/50\n",
            "175/175 [==============================] - 22s 125ms/step - loss: 0.2129 - accuracy: 0.9186 - val_loss: 0.3827 - val_accuracy: 0.8525\n",
            "Epoch 12/50\n",
            "175/175 [==============================] - 22s 125ms/step - loss: 0.2009 - accuracy: 0.9223 - val_loss: 0.3242 - val_accuracy: 0.8779\n",
            "Epoch 13/50\n",
            "175/175 [==============================] - 22s 125ms/step - loss: 0.1977 - accuracy: 0.9234 - val_loss: 0.3435 - val_accuracy: 0.8733\n",
            "Epoch 14/50\n",
            "175/175 [==============================] - 22s 125ms/step - loss: 0.1760 - accuracy: 0.9282 - val_loss: 0.3880 - val_accuracy: 0.8658\n",
            "Epoch 15/50\n",
            "175/175 [==============================] - 22s 125ms/step - loss: 0.1641 - accuracy: 0.9370 - val_loss: 0.3394 - val_accuracy: 0.8737\n",
            "Epoch 16/50\n",
            "175/175 [==============================] - 22s 126ms/step - loss: 0.1529 - accuracy: 0.9394 - val_loss: 0.3544 - val_accuracy: 0.8758\n",
            "Epoch 17/50\n",
            "175/175 [==============================] - 22s 126ms/step - loss: 0.1636 - accuracy: 0.9343 - val_loss: 0.3816 - val_accuracy: 0.8767\n",
            "Epoch 18/50\n",
            "175/175 [==============================] - 22s 126ms/step - loss: 0.1154 - accuracy: 0.9554 - val_loss: 0.3863 - val_accuracy: 0.8708\n",
            "Epoch 19/50\n",
            "175/175 [==============================] - 22s 126ms/step - loss: 0.1153 - accuracy: 0.9585 - val_loss: 0.3757 - val_accuracy: 0.8821\n",
            "Epoch 20/50\n",
            "175/175 [==============================] - 22s 126ms/step - loss: 0.1210 - accuracy: 0.9517 - val_loss: 0.3724 - val_accuracy: 0.8679\n",
            "Epoch 21/50\n",
            "175/175 [==============================] - 22s 126ms/step - loss: 0.0926 - accuracy: 0.9662 - val_loss: 0.4790 - val_accuracy: 0.8633\n",
            "Epoch 22/50\n",
            "175/175 [==============================] - 22s 126ms/step - loss: 0.1010 - accuracy: 0.9588 - val_loss: 0.4034 - val_accuracy: 0.8746\n",
            "Epoch 23/50\n",
            "175/175 [==============================] - 22s 126ms/step - loss: 0.0784 - accuracy: 0.9683 - val_loss: 0.4550 - val_accuracy: 0.8767\n",
            "Epoch 24/50\n",
            "175/175 [==============================] - 22s 126ms/step - loss: 0.0882 - accuracy: 0.9652 - val_loss: 0.4527 - val_accuracy: 0.8662\n",
            "Epoch 25/50\n",
            "175/175 [==============================] - 22s 126ms/step - loss: 0.0745 - accuracy: 0.9738 - val_loss: 0.4982 - val_accuracy: 0.8687\n",
            "Epoch 26/50\n",
            "175/175 [==============================] - 22s 126ms/step - loss: 0.0869 - accuracy: 0.9642 - val_loss: 0.4428 - val_accuracy: 0.8675\n",
            "Epoch 27/50\n",
            "175/175 [==============================] - 22s 126ms/step - loss: 0.0747 - accuracy: 0.9733 - val_loss: 0.5377 - val_accuracy: 0.8579\n",
            "Epoch 28/50\n",
            "175/175 [==============================] - 22s 126ms/step - loss: 0.0544 - accuracy: 0.9800 - val_loss: 0.5565 - val_accuracy: 0.8592\n",
            "Epoch 29/50\n",
            "175/175 [==============================] - 22s 126ms/step - loss: 0.0515 - accuracy: 0.9800 - val_loss: 0.4647 - val_accuracy: 0.8796\n",
            "Epoch 30/50\n",
            "175/175 [==============================] - 22s 126ms/step - loss: 0.0372 - accuracy: 0.9900 - val_loss: 0.5565 - val_accuracy: 0.8712\n",
            "Epoch 31/50\n",
            "175/175 [==============================] - 22s 126ms/step - loss: 0.0368 - accuracy: 0.9857 - val_loss: 0.5846 - val_accuracy: 0.8646\n",
            "Epoch 32/50\n",
            "175/175 [==============================] - 22s 126ms/step - loss: 0.0557 - accuracy: 0.9800 - val_loss: 0.5486 - val_accuracy: 0.8771\n",
            "Epoch 33/50\n",
            "175/175 [==============================] - 22s 126ms/step - loss: 0.0291 - accuracy: 0.9913 - val_loss: 0.5741 - val_accuracy: 0.8725\n",
            "Epoch 34/50\n",
            "175/175 [==============================] - 22s 126ms/step - loss: 0.0256 - accuracy: 0.9913 - val_loss: 0.7870 - val_accuracy: 0.8417\n",
            "Epoch 35/50\n",
            "175/175 [==============================] - 22s 126ms/step - loss: 0.0156 - accuracy: 0.9957 - val_loss: 0.6351 - val_accuracy: 0.8679\n",
            "Epoch 36/50\n",
            "175/175 [==============================] - 22s 126ms/step - loss: 0.0259 - accuracy: 0.9902 - val_loss: 0.6032 - val_accuracy: 0.8792\n",
            "Epoch 37/50\n",
            "175/175 [==============================] - 22s 126ms/step - loss: 0.0196 - accuracy: 0.9935 - val_loss: 0.5959 - val_accuracy: 0.8779\n",
            "Epoch 38/50\n",
            "175/175 [==============================] - 22s 126ms/step - loss: 0.0195 - accuracy: 0.9951 - val_loss: 0.6626 - val_accuracy: 0.8721\n",
            "Epoch 39/50\n",
            "175/175 [==============================] - 22s 126ms/step - loss: 0.0374 - accuracy: 0.9860 - val_loss: 0.5908 - val_accuracy: 0.8796\n",
            "Epoch 40/50\n",
            "175/175 [==============================] - 22s 126ms/step - loss: 0.0216 - accuracy: 0.9925 - val_loss: 0.6013 - val_accuracy: 0.8717\n",
            "Epoch 41/50\n",
            "175/175 [==============================] - 22s 126ms/step - loss: 0.0089 - accuracy: 0.9988 - val_loss: 0.6123 - val_accuracy: 0.8633\n",
            "Epoch 42/50\n",
            "175/175 [==============================] - 22s 126ms/step - loss: 0.0124 - accuracy: 0.9965 - val_loss: 0.7349 - val_accuracy: 0.8646\n",
            "Epoch 43/50\n",
            "175/175 [==============================] - 22s 126ms/step - loss: 0.0212 - accuracy: 0.9922 - val_loss: 0.7043 - val_accuracy: 0.8696\n",
            "Epoch 44/50\n",
            "175/175 [==============================] - 22s 126ms/step - loss: 0.0086 - accuracy: 0.9967 - val_loss: 0.6698 - val_accuracy: 0.8767\n",
            "Epoch 45/50\n",
            "175/175 [==============================] - 22s 126ms/step - loss: 0.0019 - accuracy: 1.0000 - val_loss: 0.7487 - val_accuracy: 0.8763\n",
            "Epoch 46/50\n",
            "175/175 [==============================] - 22s 126ms/step - loss: 0.0163 - accuracy: 0.9941 - val_loss: 0.7019 - val_accuracy: 0.8700\n",
            "Epoch 47/50\n",
            "175/175 [==============================] - 22s 126ms/step - loss: 0.0077 - accuracy: 0.9987 - val_loss: 0.7620 - val_accuracy: 0.8767\n",
            "Epoch 48/50\n",
            "175/175 [==============================] - 22s 126ms/step - loss: 0.0141 - accuracy: 0.9954 - val_loss: 0.6436 - val_accuracy: 0.8858\n",
            "Epoch 49/50\n",
            "175/175 [==============================] - 22s 126ms/step - loss: 0.0036 - accuracy: 0.9994 - val_loss: 0.8839 - val_accuracy: 0.8571\n",
            "Epoch 50/50\n",
            "175/175 [==============================] - 22s 126ms/step - loss: 0.0404 - accuracy: 0.9862 - val_loss: 0.6501 - val_accuracy: 0.8804\n"
          ],
          "name": "stdout"
        }
      ]
    },
    {
      "cell_type": "code",
      "metadata": {
        "id": "o4MVDAV0bLHN",
        "colab": {
          "base_uri": "https://localhost:8080/",
          "height": 298
        },
        "outputId": "c8508769-5cbe-49ed-aa77-ad77ce0b287b"
      },
      "source": [
        "model.save('vgg-19-model-weights.h5')\r\n",
        "\r\n",
        "import matplotlib.pyplot as plt\r\n",
        "acc = history.history['accuracy']\r\n",
        "val_acc = history.history['val_accuracy']\r\n",
        "loss = history.history['loss']\r\n",
        "val_loss = history.history['val_loss']\r\n",
        "\r\n",
        "epochs = range(len(acc))\r\n",
        "\r\n",
        "plt.plot(epochs, acc, 'r', label='Training accuracy')\r\n",
        "plt.plot(epochs, val_acc, 'b', label='Validation accuracy')\r\n",
        "plt.title('Training and validation accuracy')\r\n",
        "plt.legend(loc=0)\r\n",
        "plt.figure()\r\n",
        "\r\n",
        "\r\n",
        "plt.show()"
      ],
      "execution_count": 20,
      "outputs": [
        {
          "output_type": "display_data",
          "data": {
            "image/png": "[encoded data removed]",
            "text/plain": [
              "<Figure size 432x288 with 1 Axes>"
            ]
          },
          "metadata": {
            "tags": [],
            "needs_background": "light"
          }
        },
        {
          "output_type": "display_data",
          "data": {
            "text/plain": [
              "<Figure size 432x288 with 0 Axes>"
            ]
          },
          "metadata": {
            "tags": []
          }
        }
      ]
    }
  ]
}